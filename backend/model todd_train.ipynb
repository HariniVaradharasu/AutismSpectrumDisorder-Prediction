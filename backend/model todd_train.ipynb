{
 "cells": [
  {
   "cell_type": "code",
   "execution_count": 1,
   "metadata": {},
   "outputs": [
    {
     "name": "stderr",
     "output_type": "stream",
     "text": [
      "C:\\Users\\boomi\\AppData\\Roaming\\Python\\Python312\\site-packages\\xgboost\\core.py:158: UserWarning: [20:33:52] WARNING: C:\\buildkite-agent\\builds\\buildkite-windows-cpu-autoscaling-group-i-08cbc0333d8d4aae1-1\\xgboost\\xgboost-ci-windows\\src\\learner.cc:740: \n",
      "Parameters: { \"use_label_encoder\" } are not used.\n",
      "\n",
      "  warnings.warn(smsg, UserWarning)\n",
      "2025-03-14 20:33:52,392 - INFO - Random Forest Accuracy: 1.00\n",
      "2025-03-14 20:33:52,392 - INFO - Random Forest Confusion Matrix:\n",
      "[[66  0]\n",
      " [ 0 65]]\n"
     ]
    },
    {
     "name": "stdout",
     "output_type": "stream",
     "text": [
      "Random Forest Accuracy: 1.00\n",
      "Decision Tree Accuracy: 1.00\n",
      "XGBoost Accuracy: 1.00\n"
     ]
    },
    {
     "name": "stderr",
     "output_type": "stream",
     "text": [
      "2025-03-14 20:33:52,425 - INFO - Decision Tree Accuracy: 1.00\n",
      "2025-03-14 20:33:52,429 - INFO - Decision Tree Confusion Matrix:\n",
      "[[66  0]\n",
      " [ 0 65]]\n",
      "C:\\Users\\boomi\\AppData\\Roaming\\Python\\Python312\\site-packages\\xgboost\\core.py:158: UserWarning: [20:33:52] WARNING: C:\\buildkite-agent\\builds\\buildkite-windows-cpu-autoscaling-group-i-08cbc0333d8d4aae1-1\\xgboost\\xgboost-ci-windows\\src\\learner.cc:740: \n",
      "Parameters: { \"use_label_encoder\" } are not used.\n",
      "\n",
      "  warnings.warn(smsg, UserWarning)\n",
      "2025-03-14 20:33:52,517 - INFO - XGBoost Accuracy: 1.00\n",
      "2025-03-14 20:33:52,517 - INFO - XGBoost Confusion Matrix:\n",
      "[[66  0]\n",
      " [ 0 65]]\n"
     ]
    },
    {
     "data": {
      "text/plain": [
       "['xgboost.pkl']"
      ]
     },
     "execution_count": 1,
     "metadata": {},
     "output_type": "execute_result"
    }
   ],
   "source": [
    "# model_train.ipynb (Training all three models)\n",
    "\n",
    "# Import necessary libraries\n",
    "import pandas as pd\n",
    "from sklearn.model_selection import train_test_split\n",
    "from sklearn.ensemble import RandomForestClassifier\n",
    "from sklearn.tree import DecisionTreeClassifier\n",
    "from xgboost import XGBClassifier\n",
    "from sklearn.metrics import accuracy_score, classification_report\n",
    "import joblib\n",
    "\n",
    "# Load the dataset\n",
    "df = pd.read_csv(\"tod_balanced.csv\")\n",
    "\n",
    "# Fix column name if needed\n",
    "df.rename(columns={\"Class/ASD Traits \": \"Class/ASD Traits\"}, inplace=True)\n",
    "\n",
    "# Define features (X) and target (y)\n",
    "X = df.drop(columns=[\"Class/ASD Traits\"])  # Features\n",
    "y = df[\"Class/ASD Traits\"]  # Target\n",
    "\n",
    "# Split data\n",
    "X_train, X_test, y_train, y_test = train_test_split(X, y, test_size=0.2, random_state=42)\n",
    "\n",
    "# Train Random Forest\n",
    "rf_model = RandomForestClassifier(n_estimators=100, random_state=42)\n",
    "rf_model.fit(X_train, y_train)\n",
    "rf_accuracy = accuracy_score(y_test, rf_model.predict(X_test))\n",
    "joblib.dump(rf_model, \"tod_random_forest.pkl\")\n",
    "\n",
    "# Train Decision Tree\n",
    "dt_model = DecisionTreeClassifier(random_state=42)\n",
    "dt_model.fit(X_train, y_train)\n",
    "dt_accuracy = accuracy_score(y_test, dt_model.predict(X_test))\n",
    "joblib.dump(dt_model, \"tod_decision_tree.pkl\")\n",
    "\n",
    "# Train XGBoost\n",
    "xgb_model = XGBClassifier(use_label_encoder=False, eval_metric='logloss')\n",
    "xgb_model.fit(X_train, y_train)\n",
    "xgb_accuracy = accuracy_score(y_test, xgb_model.predict(X_test))\n",
    "joblib.dump(xgb_model, \"tod_xgboost.pkl\")\n",
    "\n",
    "# Print model accuracies\n",
    "print(f\"Random Forest Accuracy: {rf_accuracy:.2f}\")\n",
    "print(f\"Decision Tree Accuracy: {dt_accuracy:.2f}\")\n",
    "print(f\"XGBoost Accuracy: {xgb_accuracy:.2f}\")\n",
    "\n",
    "\n",
    "# Import necessary libraries\n",
    "import pandas as pd\n",
    "from sklearn.model_selection import train_test_split\n",
    "from sklearn.ensemble import RandomForestClassifier\n",
    "from sklearn.tree import DecisionTreeClassifier\n",
    "from xgboost import XGBClassifier\n",
    "from sklearn.metrics import accuracy_score, classification_report, confusion_matrix\n",
    "import joblib\n",
    "import logging\n",
    "\n",
    "# Set up logging\n",
    "logging.basicConfig(level=logging.INFO, format='%(asctime)s - %(levelname)s - %(message)s')\n",
    "\n",
    "# Load the dataset\n",
    "df = pd.read_csv(\"tod_balanced.csv\")\n",
    "\n",
    "# Fix column name if needed\n",
    "df.rename(columns={\"Class/ASD Traits \": \"Class/ASD Traits\"}, inplace=True)\n",
    "\n",
    "# Define features (X) and target (y)\n",
    "X = df.drop(columns=[\"Class/ASD Traits\"])  # Features\n",
    "y = df[\"Class/ASD Traits\"]  # Target\n",
    "\n",
    "# Split data\n",
    "X_train, X_test, y_train, y_test = train_test_split(X, y, test_size=0.2, random_state=42, stratify=y)\n",
    "\n",
    "# Train Random Forest\n",
    "rf_model = RandomForestClassifier(n_estimators=100, random_state=42)\n",
    "rf_model.fit(X_train, y_train)\n",
    "rf_accuracy = accuracy_score(y_test, rf_model.predict(X_test))\n",
    "rf_confusion_matrix = confusion_matrix(y_test, rf_model.predict(X_test))\n",
    "logging.info(f\"Random Forest Accuracy: {rf_accuracy:.2f}\")\n",
    "logging.info(f\"Random Forest Confusion Matrix:\\n{rf_confusion_matrix}\")\n",
    "joblib.dump(rf_model, \"random_forest.pkl\")\n",
    "\n",
    "# Train Decision Tree\n",
    "dt_model = DecisionTreeClassifier(random_state=42)\n",
    "dt_model.fit(X_train, y_train)\n",
    "dt_accuracy = accuracy_score(y_test, dt_model.predict(X_test))\n",
    "dt_confusion_matrix = confusion_matrix(y_test, dt_model.predict(X_test))\n",
    "logging.info(f\"Decision Tree Accuracy: {dt_accuracy:.2f}\")\n",
    "logging.info(f\"Decision Tree Confusion Matrix:\\n{dt_confusion_matrix}\")\n",
    "joblib.dump(dt_model, \"decision_tree.pkl\")\n",
    "\n",
    "# Train XGBoost\n",
    "xgb_model = XGBClassifier(use_label_encoder=False, eval_metric='logloss')\n",
    "xgb_model.fit(X_train, y_train)\n",
    "xgb_accuracy = accuracy_score(y_test, xgb_model.predict(X_test))\n",
    "xgb_confusion_matrix = confusion_matrix(y_test, xgb_model.predict(X_test))\n",
    "logging.info(f\"XGBoost Accuracy: {xgb_accuracy:.2f}\")\n",
    "logging.info(f\"XGBoost Confusion Matrix:\\n{xgb_confusion_matrix}\")\n",
    "joblib.dump(xgb_model, \"xgboost.pkl\")\n",
    "\n"
   ]
  },
  {
   "cell_type": "code",
   "execution_count": null,
   "metadata": {},
   "outputs": [],
   "source": []
  }
 ],
 "metadata": {
  "kernelspec": {
   "display_name": "Python 3",
   "language": "python",
   "name": "python3"
  },
  "language_info": {
   "codemirror_mode": {
    "name": "ipython",
    "version": 3
   },
   "file_extension": ".py",
   "mimetype": "text/x-python",
   "name": "python",
   "nbconvert_exporter": "python",
   "pygments_lexer": "ipython3",
   "version": "3.12.6"
  }
 },
 "nbformat": 4,
 "nbformat_minor": 2
}
